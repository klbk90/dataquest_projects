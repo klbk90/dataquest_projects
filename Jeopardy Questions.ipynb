{
 "cells": [
  {
   "cell_type": "code",
   "execution_count": 140,
   "id": "7c19248c",
   "metadata": {},
   "outputs": [],
   "source": [
    "import pandas as pd\n",
    "import csv\n",
    "import string\n",
    "jeopardy_all =pd.read_csv('JEOPARDY_CSV.csv')\n",
    "jeopardy = jeopardy_all.sample(frac=0.1, random_state =2)"
   ]
  },
  {
   "cell_type": "code",
   "execution_count": 141,
   "id": "e123a06e",
   "metadata": {},
   "outputs": [
    {
     "data": {
      "text/plain": [
       "Index(['Show Number', ' Air Date', ' Round', ' Category', ' Value',\n",
       "       ' Question', ' Answer'],\n",
       "      dtype='object')"
      ]
     },
     "execution_count": 141,
     "metadata": {},
     "output_type": "execute_result"
    }
   ],
   "source": [
    "jeopardy.columns"
   ]
  },
  {
   "cell_type": "code",
   "execution_count": 142,
   "id": "e83469ac",
   "metadata": {},
   "outputs": [
    {
     "data": {
      "text/plain": [
       "Index(['ShowNumber', 'AirDate', 'Round', 'Category', 'Value', 'Question',\n",
       "       'Answer'],\n",
       "      dtype='object')"
      ]
     },
     "execution_count": 142,
     "metadata": {},
     "output_type": "execute_result"
    }
   ],
   "source": [
    "jeopardy = jeopardy.rename(columns = lambda x:x.replace(' ',''))\n",
    "jeopardy.columns"
   ]
  },
  {
   "cell_type": "code",
   "execution_count": 143,
   "id": "25213afe",
   "metadata": {},
   "outputs": [],
   "source": [
    "def normalize_text(text):\n",
    "    if isinstance(text, str):\n",
    "        text = text.lower()\n",
    "        text = text.translate(str.maketrans('', '', string.punctuation))\n",
    "    return text    \n",
    "    "
   ]
  },
  {
   "cell_type": "code",
   "execution_count": 144,
   "id": "dc016cb0",
   "metadata": {},
   "outputs": [],
   "source": [
    "jeopardy['clean_question']=jeopardy['Question'].apply(normalize_text)\n",
    "jeopardy[\"clean_answer\"] = jeopardy[\"Answer\"].apply(normalize_text)"
   ]
  },
  {
   "cell_type": "code",
   "execution_count": 145,
   "id": "6e4f2b97",
   "metadata": {},
   "outputs": [],
   "source": [
    "def normalize_value(value):\n",
    "    value =\"\".join(char for char in value if char not in string.punctuation)\n",
    "    try:\n",
    "        normalized_value = int(value)\n",
    "    except ValueError:\n",
    "        normalized_value = 0\n",
    "    return normalized_value"
   ]
  },
  {
   "cell_type": "code",
   "execution_count": 146,
   "id": "5ae0bcf4",
   "metadata": {},
   "outputs": [],
   "source": [
    "jeopardy[\"clean_value\"] = jeopardy[\"Value\"].apply(normalize_value)"
   ]
  },
  {
   "cell_type": "code",
   "execution_count": 147,
   "id": "9f7ca0b8",
   "metadata": {},
   "outputs": [
    {
     "data": {
      "text/html": [
       "<div>\n",
       "<style scoped>\n",
       "    .dataframe tbody tr th:only-of-type {\n",
       "        vertical-align: middle;\n",
       "    }\n",
       "\n",
       "    .dataframe tbody tr th {\n",
       "        vertical-align: top;\n",
       "    }\n",
       "\n",
       "    .dataframe thead th {\n",
       "        text-align: right;\n",
       "    }\n",
       "</style>\n",
       "<table border=\"1\" class=\"dataframe\">\n",
       "  <thead>\n",
       "    <tr style=\"text-align: right;\">\n",
       "      <th></th>\n",
       "      <th>ShowNumber</th>\n",
       "      <th>AirDate</th>\n",
       "      <th>Round</th>\n",
       "      <th>Category</th>\n",
       "      <th>Value</th>\n",
       "      <th>Question</th>\n",
       "      <th>Answer</th>\n",
       "      <th>clean_question</th>\n",
       "      <th>clean_answer</th>\n",
       "      <th>clean_value</th>\n",
       "    </tr>\n",
       "  </thead>\n",
       "  <tbody>\n",
       "    <tr>\n",
       "      <th>41127</th>\n",
       "      <td>5925</td>\n",
       "      <td>2010-05-21</td>\n",
       "      <td>Jeopardy!</td>\n",
       "      <td>CAUSED BY...</td>\n",
       "      <td>$1000</td>\n",
       "      <td>Hypovolemic, a type of shock</td>\n",
       "      <td>loss of blood</td>\n",
       "      <td>hypovolemic a type of shock</td>\n",
       "      <td>loss of blood</td>\n",
       "      <td>1000</td>\n",
       "    </tr>\n",
       "    <tr>\n",
       "      <th>71199</th>\n",
       "      <td>5920</td>\n",
       "      <td>2010-05-14</td>\n",
       "      <td>Jeopardy!</td>\n",
       "      <td>BOXING TERMS SANS BOXING</td>\n",
       "      <td>$600</td>\n",
       "      <td>Hey, ya palooka, I got you a lawyer... yeah, h...</td>\n",
       "      <td>a mouthpiece</td>\n",
       "      <td>hey ya palooka i got you a lawyer yeah hes als...</td>\n",
       "      <td>a mouthpiece</td>\n",
       "      <td>600</td>\n",
       "    </tr>\n",
       "    <tr>\n",
       "      <th>7555</th>\n",
       "      <td>6072</td>\n",
       "      <td>2011-01-25</td>\n",
       "      <td>Jeopardy!</td>\n",
       "      <td>GAMES</td>\n",
       "      <td>$1000</td>\n",
       "      <td>In terms of the use of fingers, it's the game ...</td>\n",
       "      <td>Rock, Paper, Scissors</td>\n",
       "      <td>in terms of the use of fingers its the game in...</td>\n",
       "      <td>rock paper scissors</td>\n",
       "      <td>1000</td>\n",
       "    </tr>\n",
       "    <tr>\n",
       "      <th>113522</th>\n",
       "      <td>5519</td>\n",
       "      <td>2008-09-11</td>\n",
       "      <td>Jeopardy!</td>\n",
       "      <td>LOVE AFFAIR</td>\n",
       "      <td>$400</td>\n",
       "      <td>This 1878 title gal has a child with her hubby...</td>\n",
       "      <td>Anna Karenina</td>\n",
       "      <td>this 1878 title gal has a child with her hubby...</td>\n",
       "      <td>anna karenina</td>\n",
       "      <td>400</td>\n",
       "    </tr>\n",
       "    <tr>\n",
       "      <th>89219</th>\n",
       "      <td>1486</td>\n",
       "      <td>1991-02-04</td>\n",
       "      <td>Double Jeopardy!</td>\n",
       "      <td>HOLIDAYS &amp; OBSERVANCES</td>\n",
       "      <td>$400</td>\n",
       "      <td>In Canada, the Monday before May 25th is a hol...</td>\n",
       "      <td>Queen Victoria</td>\n",
       "      <td>in canada the monday before may 25th is a holi...</td>\n",
       "      <td>queen victoria</td>\n",
       "      <td>400</td>\n",
       "    </tr>\n",
       "    <tr>\n",
       "      <th>...</th>\n",
       "      <td>...</td>\n",
       "      <td>...</td>\n",
       "      <td>...</td>\n",
       "      <td>...</td>\n",
       "      <td>...</td>\n",
       "      <td>...</td>\n",
       "      <td>...</td>\n",
       "      <td>...</td>\n",
       "      <td>...</td>\n",
       "      <td>...</td>\n",
       "    </tr>\n",
       "    <tr>\n",
       "      <th>70448</th>\n",
       "      <td>4</td>\n",
       "      <td>1984-09-13</td>\n",
       "      <td>Double Jeopardy!</td>\n",
       "      <td>THE CIVIL WAR</td>\n",
       "      <td>$200</td>\n",
       "      <td>Lincoln's four brothers-in-law all served in t...</td>\n",
       "      <td>the Confederate army</td>\n",
       "      <td>lincolns four brothersinlaw all served in this...</td>\n",
       "      <td>the confederate army</td>\n",
       "      <td>200</td>\n",
       "    </tr>\n",
       "    <tr>\n",
       "      <th>34822</th>\n",
       "      <td>5744</td>\n",
       "      <td>2009-07-23</td>\n",
       "      <td>Double Jeopardy!</td>\n",
       "      <td>ABBREV.</td>\n",
       "      <td>$1200</td>\n",
       "      <td>It's what the \"N\" stands for in NICU, an inten...</td>\n",
       "      <td>neonatal</td>\n",
       "      <td>its what the n stands for in nicu an intensive...</td>\n",
       "      <td>neonatal</td>\n",
       "      <td>1200</td>\n",
       "    </tr>\n",
       "    <tr>\n",
       "      <th>214009</th>\n",
       "      <td>6011</td>\n",
       "      <td>2010-11-01</td>\n",
       "      <td>Jeopardy!</td>\n",
       "      <td>SINGLE-NAMED SINGERS' LAST NAMES</td>\n",
       "      <td>$400</td>\n",
       "      <td>Late Tejano singer: Quintanilla</td>\n",
       "      <td>Selena</td>\n",
       "      <td>late tejano singer quintanilla</td>\n",
       "      <td>selena</td>\n",
       "      <td>400</td>\n",
       "    </tr>\n",
       "    <tr>\n",
       "      <th>145192</th>\n",
       "      <td>2862</td>\n",
       "      <td>1997-01-28</td>\n",
       "      <td>Jeopardy!</td>\n",
       "      <td>SPORTS STARS</td>\n",
       "      <td>$400</td>\n",
       "      <td>In 1995 this Cleveland slugger led the America...</td>\n",
       "      <td>Albert Belle</td>\n",
       "      <td>in 1995 this cleveland slugger led the america...</td>\n",
       "      <td>albert belle</td>\n",
       "      <td>400</td>\n",
       "    </tr>\n",
       "    <tr>\n",
       "      <th>183956</th>\n",
       "      <td>4971</td>\n",
       "      <td>2006-04-03</td>\n",
       "      <td>Jeopardy!</td>\n",
       "      <td>PRIME MINISTERS OF ISRAEL</td>\n",
       "      <td>$600</td>\n",
       "      <td>This Nobel Prize winner was Prime Minister of ...</td>\n",
       "      <td>Shimon Peres</td>\n",
       "      <td>this nobel prize winner was prime minister of ...</td>\n",
       "      <td>shimon peres</td>\n",
       "      <td>600</td>\n",
       "    </tr>\n",
       "  </tbody>\n",
       "</table>\n",
       "<p>21693 rows × 10 columns</p>\n",
       "</div>"
      ],
      "text/plain": [
       "        ShowNumber     AirDate             Round  \\\n",
       "41127         5925  2010-05-21         Jeopardy!   \n",
       "71199         5920  2010-05-14         Jeopardy!   \n",
       "7555          6072  2011-01-25         Jeopardy!   \n",
       "113522        5519  2008-09-11         Jeopardy!   \n",
       "89219         1486  1991-02-04  Double Jeopardy!   \n",
       "...            ...         ...               ...   \n",
       "70448            4  1984-09-13  Double Jeopardy!   \n",
       "34822         5744  2009-07-23  Double Jeopardy!   \n",
       "214009        6011  2010-11-01         Jeopardy!   \n",
       "145192        2862  1997-01-28         Jeopardy!   \n",
       "183956        4971  2006-04-03         Jeopardy!   \n",
       "\n",
       "                                Category  Value  \\\n",
       "41127                       CAUSED BY...  $1000   \n",
       "71199           BOXING TERMS SANS BOXING   $600   \n",
       "7555                               GAMES  $1000   \n",
       "113522                       LOVE AFFAIR   $400   \n",
       "89219             HOLIDAYS & OBSERVANCES   $400   \n",
       "...                                  ...    ...   \n",
       "70448                      THE CIVIL WAR   $200   \n",
       "34822                            ABBREV.  $1200   \n",
       "214009  SINGLE-NAMED SINGERS' LAST NAMES   $400   \n",
       "145192                      SPORTS STARS   $400   \n",
       "183956         PRIME MINISTERS OF ISRAEL   $600   \n",
       "\n",
       "                                                 Question  \\\n",
       "41127                        Hypovolemic, a type of shock   \n",
       "71199   Hey, ya palooka, I got you a lawyer... yeah, h...   \n",
       "7555    In terms of the use of fingers, it's the game ...   \n",
       "113522  This 1878 title gal has a child with her hubby...   \n",
       "89219   In Canada, the Monday before May 25th is a hol...   \n",
       "...                                                   ...   \n",
       "70448   Lincoln's four brothers-in-law all served in t...   \n",
       "34822   It's what the \"N\" stands for in NICU, an inten...   \n",
       "214009                    Late Tejano singer: Quintanilla   \n",
       "145192  In 1995 this Cleveland slugger led the America...   \n",
       "183956  This Nobel Prize winner was Prime Minister of ...   \n",
       "\n",
       "                       Answer  \\\n",
       "41127           loss of blood   \n",
       "71199            a mouthpiece   \n",
       "7555    Rock, Paper, Scissors   \n",
       "113522          Anna Karenina   \n",
       "89219          Queen Victoria   \n",
       "...                       ...   \n",
       "70448    the Confederate army   \n",
       "34822                neonatal   \n",
       "214009                 Selena   \n",
       "145192           Albert Belle   \n",
       "183956           Shimon Peres   \n",
       "\n",
       "                                           clean_question  \\\n",
       "41127                         hypovolemic a type of shock   \n",
       "71199   hey ya palooka i got you a lawyer yeah hes als...   \n",
       "7555    in terms of the use of fingers its the game in...   \n",
       "113522  this 1878 title gal has a child with her hubby...   \n",
       "89219   in canada the monday before may 25th is a holi...   \n",
       "...                                                   ...   \n",
       "70448   lincolns four brothersinlaw all served in this...   \n",
       "34822   its what the n stands for in nicu an intensive...   \n",
       "214009                     late tejano singer quintanilla   \n",
       "145192  in 1995 this cleveland slugger led the america...   \n",
       "183956  this nobel prize winner was prime minister of ...   \n",
       "\n",
       "                clean_answer  clean_value  \n",
       "41127          loss of blood         1000  \n",
       "71199           a mouthpiece          600  \n",
       "7555     rock paper scissors         1000  \n",
       "113522         anna karenina          400  \n",
       "89219         queen victoria          400  \n",
       "...                      ...          ...  \n",
       "70448   the confederate army          200  \n",
       "34822               neonatal         1200  \n",
       "214009                selena          400  \n",
       "145192          albert belle          400  \n",
       "183956          shimon peres          600  \n",
       "\n",
       "[21693 rows x 10 columns]"
      ]
     },
     "execution_count": 147,
     "metadata": {},
     "output_type": "execute_result"
    }
   ],
   "source": [
    "jeopardy"
   ]
  },
  {
   "cell_type": "code",
   "execution_count": 148,
   "id": "a9a877fb",
   "metadata": {},
   "outputs": [
    {
     "data": {
      "text/plain": [
       "ShowNumber                 int64\n",
       "AirDate           datetime64[ns]\n",
       "Round                     object\n",
       "Category                  object\n",
       "Value                     object\n",
       "Question                  object\n",
       "Answer                    object\n",
       "clean_question            object\n",
       "clean_answer              object\n",
       "clean_value                int64\n",
       "dtype: object"
      ]
     },
     "execution_count": 148,
     "metadata": {},
     "output_type": "execute_result"
    }
   ],
   "source": [
    "jeopardy[\"AirDate\"] = pd.to_datetime(jeopardy[\"AirDate\"])\n",
    "jeopardy.dtypes"
   ]
  },
  {
   "cell_type": "code",
   "execution_count": 149,
   "id": "667b9446",
   "metadata": {},
   "outputs": [],
   "source": [
    "def count_matches(row):\n",
    "    split_answer = str(row['clean_answer']).split()\n",
    "    split_question = str(row['clean_question']).split()\n",
    "    if 'the' in split_answer:\n",
    "        split_answer.remove(\"the\")\n",
    "    match_count = 0\n",
    "    for item in split_question:\n",
    "        if item in split_answer:\n",
    "            match_count +=1\n",
    "    if len(split_answer) > 0:       \n",
    "        return match_count / len(split_answer)\n",
    "    else:\n",
    "        return 0\n",
    "\n",
    "jeopardy[\"answer_in_question\"] = jeopardy.apply(count_matches, axis=1)        "
   ]
  },
  {
   "cell_type": "code",
   "execution_count": 150,
   "id": "686b60ac",
   "metadata": {},
   "outputs": [
    {
     "data": {
      "text/plain": [
       "0.06862692297279469"
      ]
     },
     "execution_count": 150,
     "metadata": {},
     "output_type": "execute_result"
    }
   ],
   "source": [
    "jeopardy[\"answer_in_question\"].mean()"
   ]
  },
  {
   "cell_type": "markdown",
   "id": "cc2ba279",
   "metadata": {},
   "source": [
    "### Recycled Questions\n",
    "On average, the answer only makes up for about 7% of the question. This isn't a huge number, and it means that we probably can't just hope that hearing a question will enable us to determine the answer. We'll probably have to study."
   ]
  },
  {
   "cell_type": "code",
   "execution_count": null,
   "id": "54995fe6",
   "metadata": {},
   "outputs": [],
   "source": []
  },
  {
   "cell_type": "code",
   "execution_count": 151,
   "id": "338bd012",
   "metadata": {},
   "outputs": [
    {
     "data": {
      "text/plain": [
       "41127                           hypovolemic a type of shock\n",
       "71199     hey ya palooka i got you a lawyer yeah hes als...\n",
       "7555      in terms of the use of fingers its the game in...\n",
       "113522    this 1878 title gal has a child with her hubby...\n",
       "89219     in canada the monday before may 25th is a holi...\n",
       "Name: clean_question, dtype: object"
      ]
     },
     "execution_count": 151,
     "metadata": {},
     "output_type": "execute_result"
    }
   ],
   "source": [
    "jeopardy['clean_question'].head()"
   ]
  },
  {
   "cell_type": "code",
   "execution_count": 152,
   "id": "4b56de2c",
   "metadata": {},
   "outputs": [
    {
     "data": {
      "text/plain": [
       "0.6963876610083568"
      ]
     },
     "execution_count": 152,
     "metadata": {},
     "output_type": "execute_result"
    }
   ],
   "source": [
    "question_overlap = []\n",
    "terms_used = set()\n",
    "\n",
    "jeopardy = jeopardy.sort_values(\"AirDate\")\n",
    "\n",
    "for i, row in jeopardy.iterrows():\n",
    "        split_question = row[\"clean_question\"].split(\" \")\n",
    "        split_question = [q for q in split_question if len(q) > 5]\n",
    "        match_count = 0\n",
    "        for word in split_question:\n",
    "            if word in terms_used:\n",
    "                match_count += 1\n",
    "        for word in split_question:\n",
    "            terms_used.add(word)\n",
    "        if len(split_question) > 0:\n",
    "            match_count /= len(split_question)\n",
    "        question_overlap.append(match_count)\n",
    "jeopardy[\"question_overlap\"] = question_overlap\n",
    "\n",
    "jeopardy[\"question_overlap\"].mean()   \n"
   ]
  },
  {
   "cell_type": "markdown",
   "id": "9d6d2d72",
   "metadata": {},
   "source": [
    "### Low Value vs. High Value Questions\n",
    "There is about a 70% overlap between terms in new questions and terms in old questions. This only looks at a small set of questions, and it doesn't look at phrases — it looks at single terms. This makes it relatively insignificant, but it does mean that it's worth looking more into the recycling of questions."
   ]
  },
  {
   "cell_type": "code",
   "execution_count": 153,
   "id": "20c11027",
   "metadata": {},
   "outputs": [],
   "source": [
    "def determine_value(row):\n",
    "    value = 0\n",
    "    if row[\"clean_value\"] > 800:\n",
    "        value = 1\n",
    "    return value\n",
    "\n",
    "jeopardy[\"high_value\"] = jeopardy.apply(determine_value, axis=1)"
   ]
  },
  {
   "cell_type": "code",
   "execution_count": 154,
   "id": "79b4a68b",
   "metadata": {},
   "outputs": [],
   "source": [
    "def count_usage(term):\n",
    "    low_count = 0\n",
    "    high_count = 0\n",
    "    for i, row in jeopardy.iterrows():\n",
    "        if term in row[\"clean_question\"].split(\" \"):\n",
    "            if row[\"high_value\"] == 1:\n",
    "                high_count += 1\n",
    "            else:\n",
    "                low_count += 1\n",
    "    return high_count, low_count    "
   ]
  },
  {
   "cell_type": "code",
   "execution_count": 155,
   "id": "17844b1d",
   "metadata": {},
   "outputs": [
    {
     "data": {
      "text/plain": [
       "[(0, 1),\n",
       " (0, 1),\n",
       " (0, 1),\n",
       " (0, 2),\n",
       " (0, 1),\n",
       " (0, 4),\n",
       " (1, 3),\n",
       " (2, 0),\n",
       " (1, 0),\n",
       " (0, 1)]"
      ]
     },
     "execution_count": 155,
     "metadata": {},
     "output_type": "execute_result"
    }
   ],
   "source": [
    "from random import choice\n",
    "\n",
    "terms_used_list = list(terms_used)\n",
    "comparison_terms = [choice(terms_used_list) for _ in range(10)]\n",
    "\n",
    "observed_expected = []\n",
    "\n",
    "for term in comparison_terms:\n",
    "    observed_expected.append(count_usage(term))\n",
    "\n",
    "observed_expected"
   ]
  },
  {
   "cell_type": "code",
   "execution_count": 156,
   "id": "7895e88d",
   "metadata": {},
   "outputs": [
    {
     "data": {
      "text/plain": [
       "[Power_divergenceResult(statistic=0.4067181116659101, pvalue=0.5236399800157328),\n",
       " Power_divergenceResult(statistic=0.4067181116659101, pvalue=0.5236399800157328),\n",
       " Power_divergenceResult(statistic=0.4067181116659101, pvalue=0.5236399800157328),\n",
       " Power_divergenceResult(statistic=0.8134362233318202, pvalue=0.3671062764816485),\n",
       " Power_divergenceResult(statistic=0.4067181116659101, pvalue=0.5236399800157328),\n",
       " Power_divergenceResult(statistic=1.6268724466636404, pvalue=0.2021361794136462),\n",
       " Power_divergenceResult(statistic=0.029792090534012047, pvalue=0.8629628220464778),\n",
       " Power_divergenceResult(statistic=4.917410714285715, pvalue=0.026587335293713127),\n",
       " Power_divergenceResult(statistic=2.4587053571428577, pvalue=0.11687507804961356),\n",
       " Power_divergenceResult(statistic=0.4067181116659101, pvalue=0.5236399800157328)]"
      ]
     },
     "execution_count": 156,
     "metadata": {},
     "output_type": "execute_result"
    }
   ],
   "source": [
    "from scipy.stats import chisquare\n",
    "import numpy as np\n",
    "\n",
    "high_value_count = jeopardy[jeopardy[\"high_value\"] == 1].shape[0]\n",
    "low_value_count = jeopardy[jeopardy[\"high_value\"] == 0].shape[0]\n",
    "\n",
    "chi_squared = []\n",
    "for obs in observed_expected:\n",
    "    total = sum(obs)\n",
    "    total_prop = total / jeopardy.shape[0]\n",
    "    high_value_exp = total_prop * high_value_count\n",
    "    low_value_exp = total_prop * low_value_count\n",
    "    \n",
    "    observed = np.array([obs[0], obs[1]])\n",
    "    expected = np.array([high_value_exp, low_value_exp])\n",
    "    chi_squared.append(chisquare(observed, expected))\n",
    "\n",
    "chi_squared"
   ]
  },
  {
   "cell_type": "markdown",
   "id": "9373f0d2",
   "metadata": {},
   "source": [
    "### Chi-Squared Results\n",
    "None of the terms had a significant difference in usage between high value and low value rows. Additionally, the frequencies were all lower than 5, so the chi-squared test isn't as valid. It would be better to run this test with only terms that have higher frequencies."
   ]
  },
  {
   "cell_type": "code",
   "execution_count": 159,
   "id": "483aaea4",
   "metadata": {},
   "outputs": [
    {
     "data": {
      "image/png": "[encoded data removed]",
      "text/plain": [
       "<Figure size 432x288 with 1 Axes>"
      ]
     },
     "metadata": {
      "needs_background": "light"
     },
     "output_type": "display_data"
    }
   ],
   "source": [
    "import matplotlib.pyplot as plt\n",
    "\n",
    "chi_squared_values = [result.statistic for result in chi_squared]\n",
    "p_values = [result.pvalue for result in chi_squared]\n",
    "plt.hist(chi_squared_values, bins='auto', edgecolor='black')\n",
    "plt.xlabel('Chi-squared Statistic')\n",
    "plt.ylabel('Frequency')\n",
    "plt.title('Distribution of Chi-squared Statistics')\n",
    "for i in range(len(chi_squared_values)):\n",
    "    plt.text(chi_squared_values[i], 5, f'p={p_values[i]:.3f}', ha='center')\n",
    "\n",
    "plt.show()"
   ]
  },
  {
   "cell_type": "code",
   "execution_count": null,
   "id": "f0075074",
   "metadata": {},
   "outputs": [],
   "source": []
  }
 ],
 "metadata": {
  "kernelspec": {
   "display_name": "Python 3",
   "language": "python",
   "name": "python3"
  },
  "language_info": {
   "codemirror_mode": {
    "name": "ipython",
    "version": 3
   },
   "file_extension": ".py",
   "mimetype": "text/x-python",
   "name": "python",
   "nbconvert_exporter": "python",
   "pygments_lexer": "ipython3",
   "version": "3.8.8"
  }
 },
 "nbformat": 4,
 "nbformat_minor": 5
}
